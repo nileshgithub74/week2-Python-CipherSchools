{
  "nbformat": 4,
  "nbformat_minor": 0,
  "metadata": {
    "colab": {
      "provenance": [],
      "authorship_tag": "ABX9TyPZxzGNDF38Kn+Yfj4cJD6H",
      "include_colab_link": true
    },
    "kernelspec": {
      "name": "python3",
      "display_name": "Python 3"
    },
    "language_info": {
      "name": "python"
    }
  },
  "cells": [
    {
      "cell_type": "markdown",
      "metadata": {
        "id": "view-in-github",
        "colab_type": "text"
      },
      "source": [
        "<a href=\"https://colab.research.google.com/github/nileshgithub74/week2-Python-CipherSchools/blob/main/oops_py.ipynb\" target=\"_parent\"><img src=\"https://colab.research.google.com/assets/colab-badge.svg\" alt=\"Open In Colab\"/></a>"
      ]
    },
    {
      "cell_type": "code",
      "execution_count": null,
      "metadata": {
        "id": "NICCes6IGLTA"
      },
      "outputs": [],
      "source": [
        "# Object Oriented programmings, OOPs\n",
        "\n",
        "\n",
        "# OOps used in programming reuseability\n",
        "  '''  Inheritance:\n",
        "\n",
        "             The property of acquiring all the properties and behaviors of the parent object by an object is termed as inheritance in OOPs. This is a unique feature in object oriented programming languages which facilitates reusability of the code of the parent class by the derived class.\n",
        "\n",
        "  Polymorphism:\n",
        "               OOPs is based on the principle of Polymorphism, which means, that one task can be performed in many ways.\n",
        "\n",
        "  Encapsulation:\n",
        "\n",
        "                  OOPs restrict direct access to its methods and variables by encapsulating the code and data together.\n",
        "\n",
        "  Data Abstraction :\n",
        "                    OOPS Data Abstraction feature is used for hiding internal details and showing the functionality only.  '''\n",
        "\n",
        "\n",
        "\n",
        "\n"
      ]
    },
    {
      "cell_type": "code",
      "source": [
        "# class : it is basically the collection of object.\n",
        "# Object :attributes and behaviour\n",
        "\n",
        "\n",
        "class car:\n",
        "  h = 10 \n",
        "\n",
        "\n",
        "tiago = car()\n",
        "print(tiago.h)\n",
        "\n"
      ],
      "metadata": {
        "colab": {
          "base_uri": "https://localhost:8080/"
        },
        "id": "TIQ4fNV4gDb4",
        "outputId": "24a6bb5f-446d-4fb6-d5a0-e372326cfd54"
      },
      "execution_count": null,
      "outputs": [
        {
          "output_type": "stream",
          "name": "stdout",
          "text": [
            "10\n"
          ]
        }
      ]
    },
    {
      "cell_type": "code",
      "source": [
        "class student:\n",
        "  def __init__(self, name,reg):\n",
        "    self.name = name\n",
        "    self.reg = reg\n",
        "\n",
        "\n",
        "s1 = student(\"Nilesh\",12218065)\n",
        "print(s1.name)\n",
        "print(s1.reg)"
      ],
      "metadata": {
        "colab": {
          "base_uri": "https://localhost:8080/"
        },
        "id": "j6d0AdhaoXxY",
        "outputId": "01056e42-fe80-4774-e2eb-895363377a75"
      },
      "execution_count": null,
      "outputs": [
        {
          "output_type": "stream",
          "name": "stdout",
          "text": [
            "Nilesh\n",
            "12218065\n"
          ]
        }
      ]
    },
    {
      "cell_type": "code",
      "source": [
        "class student:\n",
        "  def __init__(self, name,reg):\n",
        "    self.name = name\n",
        "    self.reg = reg\n",
        "\n",
        "  def pr(self):\n",
        "    print(\"Hello my name is \"+ self.name)\n",
        "\n",
        "s1 = student(\"Nilesh\",12218065)\n",
        "s1.pr()\n",
        "\n"
      ],
      "metadata": {
        "colab": {
          "base_uri": "https://localhost:8080/"
        },
        "id": "i8vSeiXSvaar",
        "outputId": "3188ad92-fb87-441b-fc21-06a8c006ce6f"
      },
      "execution_count": null,
      "outputs": [
        {
          "output_type": "stream",
          "name": "stdout",
          "text": [
            "Hello my name is Nilesh\n"
          ]
        }
      ]
    },
    {
      "cell_type": "code",
      "source": [
        "# Inheritance\n",
        "class person :\n",
        "  def __init__(self,name,age):\n",
        "    self.name  = name\n",
        "    self.age = age\n",
        "\n",
        "  def display(self):\n",
        "    print(self.name, self.age)\n",
        "\n",
        "\n",
        "#class Employee(person): # here person = parent , Employee = child\n",
        "#  pass   \n",
        "\n",
        "#a = Employee(\"Anurag\", 27)\n",
        "a = person(\"Anurag\", 29)\n",
        "b = person(\"Nilesh\", 19)\n",
        "\n",
        "\n",
        "a.display()\n",
        "b.display()\n",
        "  "
      ],
      "metadata": {
        "colab": {
          "base_uri": "https://localhost:8080/"
        },
        "id": "ZR5tz7zIGmCa",
        "outputId": "5fccece3-7d25-4a34-a183-4468829f76c0"
      },
      "execution_count": null,
      "outputs": [
        {
          "output_type": "stream",
          "name": "stdout",
          "text": [
            "Anurag 29\n",
            "Nilesh 19\n"
          ]
        }
      ]
    },
    {
      "cell_type": "code",
      "source": [
        "class person :\n",
        "  def __init__(self,name,age):\n",
        "    self.name  = name\n",
        "    self.age = age\n",
        "\n",
        "  def display(self):\n",
        "    print(self.name, self.age)\n",
        "\n",
        "class Employee(person):\n",
        "  def __init__(self,name, age):\n",
        "    person.__init__(self, name, age)\n",
        "\n",
        "a = Employee(\"Nilesh\", 20)\n",
        "a.display()"
      ],
      "metadata": {
        "colab": {
          "base_uri": "https://localhost:8080/"
        },
        "id": "nK49_qGwM0vY",
        "outputId": "67a8e5b3-1292-4a2d-9743-bae9080fc52c"
      },
      "execution_count": null,
      "outputs": [
        {
          "output_type": "stream",
          "name": "stdout",
          "text": [
            "Nilesh 20\n"
          ]
        }
      ]
    },
    {
      "cell_type": "code",
      "source": [
        "class Employees(): \n",
        "   def __init__(self, Name, Salary): \n",
        "       self.Name = Name\n",
        "       self.Salary = Salary\n",
        " \n",
        "   def details(self): \n",
        "       print (\"Employee Name : \", self.Name)\n",
        "       print (\"Employee Salary: \", self.Salary)\n",
        "       print(\"\\n\")\n",
        " \n",
        "first = Employees(\"Khush\", 10000) \n",
        "second = Employees(\"Raam\", 20000)\n",
        "third = Employees(\"Lav\", 10000)\n",
        "fourth = Employees(\"Sita\", 30000)\n",
        "fifth = Employees(\"Lucky\", 50000)\n",
        " \n",
        "first.details() \n",
        "second.details() \n",
        "third.details()\n",
        "fourth.details()\n",
        "fifth.details()"
      ],
      "metadata": {
        "colab": {
          "base_uri": "https://localhost:8080/"
        },
        "id": "CFImQS_6OULN",
        "outputId": "f38eb8da-0a4e-44df-e692-01590656178f"
      },
      "execution_count": null,
      "outputs": [
        {
          "output_type": "stream",
          "name": "stdout",
          "text": [
            "Employee Name :  Khush\n",
            "Employee Salary:  10000\n",
            "\n",
            "\n",
            "Employee Name :  Raam\n",
            "Employee Salary:  20000\n",
            "\n",
            "\n",
            "Employee Name :  Lav\n",
            "Employee Salary:  10000\n",
            "\n",
            "\n",
            "Employee Name :  Sita\n",
            "Employee Salary:  30000\n",
            "\n",
            "\n",
            "Employee Name :  Lucky\n",
            "Employee Salary:  50000\n",
            "\n",
            "\n"
          ]
        }
      ]
    },
    {
      "cell_type": "code",
      "source": [
        "class Employee():\n",
        "  def __init__(self,name , salary ,age,contact):\n",
        "    self.name = name\n",
        "    self.salary = salary\n",
        "    self.age = age\n",
        "    self.contact = contact\n",
        "\n",
        "  def details(self):\n",
        "    print(\"Employee name :\" , self.name)\n",
        "    print(\"Salary:\", self.salary)\n",
        "    print(\"Age:\", self.age)\n",
        "    print(\"Contact no :\", self.contact)\n",
        "    print(\"\\n\")\n",
        "\n",
        "a = Employee(\"Anurag\" , 20000 , 30 ,99373727329)\n",
        "b = Employee(\"Nilesh\", 1000, 19,22422442)\n",
        "c = Employee(\"Mishra\", 29822,  23,323223234)\n",
        "\n",
        "a.details()\n",
        "b.details()\n",
        "c.details()\n",
        "\n"
      ],
      "metadata": {
        "colab": {
          "base_uri": "https://localhost:8080/"
        },
        "id": "sKfsLOXzOvur",
        "outputId": "6492a79b-aa75-4f89-b984-19ffb23e520f"
      },
      "execution_count": null,
      "outputs": [
        {
          "output_type": "stream",
          "name": "stdout",
          "text": [
            "Employee name : Anurag\n",
            "Salary: 20000\n",
            "Age: 30\n",
            "Contact no : 99373727329\n",
            "\n",
            "\n",
            "Employee name : Nilesh\n",
            "Salary: 1000\n",
            "Age: 19\n",
            "Contact no : 22422442\n",
            "\n",
            "\n",
            "Employee name : Mishra\n",
            "Salary: 29822\n",
            "Age: 23\n",
            "Contact no : 323223234\n",
            "\n",
            "\n"
          ]
        }
      ]
    },
    {
      "cell_type": "code",
      "source": [
        "class person():\n",
        "  def __init__(self,name ,age):\n",
        "    self.name = name \n",
        "    self.age = age\n",
        "\n",
        "\n",
        "  def display(self):\n",
        "    print(self.name)\n",
        "    print(self.age)\n",
        "\n",
        "\n",
        "class pr(person):\n",
        "  pass\n",
        "\n",
        "a = pr(\"Nilesh\", 20)\n",
        "\n",
        "a.display()\n"
      ],
      "metadata": {
        "colab": {
          "base_uri": "https://localhost:8080/"
        },
        "id": "50Q50JDySDPD",
        "outputId": "19bb7da7-502d-4abe-c588-cf3448c9a954"
      },
      "execution_count": null,
      "outputs": [
        {
          "output_type": "stream",
          "name": "stdout",
          "text": [
            "Nilesh\n",
            "20\n"
          ]
        }
      ]
    }
  ]
}